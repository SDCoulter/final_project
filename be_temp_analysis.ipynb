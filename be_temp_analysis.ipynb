{
 "cells": [
  {
   "cell_type": "markdown",
   "id": "5fa75b53",
   "metadata": {},
   "source": [
    "We will read in the Berkeley Earth text files, scraped from their website, and pull out the temperature data for each country. This data will be put into CSV files to allow for visualization, and also organized for machine learning."
   ]
  },
  {
   "cell_type": "code",
   "execution_count": 1,
   "id": "94455d3a",
   "metadata": {},
   "outputs": [],
   "source": [
    "# Dependencies.\n",
    "import pandas as pd"
   ]
  },
  {
   "cell_type": "code",
   "execution_count": null,
   "id": "78009eeb",
   "metadata": {},
   "outputs": [],
   "source": [
    "# Read in one file."
   ]
  },
  {
   "cell_type": "code",
   "execution_count": null,
   "id": "cc03ac01",
   "metadata": {},
   "outputs": [],
   "source": []
  }
 ],
 "metadata": {
  "kernelspec": {
   "display_name": "mlenv",
   "language": "python",
   "name": "mlenv"
  },
  "language_info": {
   "codemirror_mode": {
    "name": "ipython",
    "version": 3
   },
   "file_extension": ".py",
   "mimetype": "text/x-python",
   "name": "python",
   "nbconvert_exporter": "python",
   "pygments_lexer": "ipython3",
   "version": "3.7.10"
  }
 },
 "nbformat": 4,
 "nbformat_minor": 5
}
