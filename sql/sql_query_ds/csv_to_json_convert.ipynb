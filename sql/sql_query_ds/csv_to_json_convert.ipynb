{
 "cells": [
  {
   "cell_type": "markdown",
   "id": "acb49d6b",
   "metadata": {},
   "source": [
    "## Simple CSV to JSON Data Format Conversion"
   ]
  },
  {
   "cell_type": "code",
   "execution_count": 1,
   "id": "e1c87b0c",
   "metadata": {},
   "outputs": [],
   "source": [
    "import pandas as pd"
   ]
  },
  {
   "cell_type": "markdown",
   "id": "3ad1b962",
   "metadata": {},
   "source": [
    "### ENTER FILENAME AND INDEX:"
   ]
  },
  {
   "cell_type": "code",
   "execution_count": 2,
   "id": "be35a48c",
   "metadata": {},
   "outputs": [],
   "source": [
    "FILENAME = '2010_country_temps' + '.csv'\n",
    "INDEX = 'country'"
   ]
  },
  {
   "cell_type": "code",
   "execution_count": 3,
   "id": "fafe3a70",
   "metadata": {},
   "outputs": [
    {
     "data": {
      "text/html": [
       "<div>\n",
       "<style scoped>\n",
       "    .dataframe tbody tr th:only-of-type {\n",
       "        vertical-align: middle;\n",
       "    }\n",
       "\n",
       "    .dataframe tbody tr th {\n",
       "        vertical-align: top;\n",
       "    }\n",
       "\n",
       "    .dataframe thead th {\n",
       "        text-align: right;\n",
       "    }\n",
       "</style>\n",
       "<table border=\"1\" class=\"dataframe\">\n",
       "  <thead>\n",
       "    <tr style=\"text-align: right;\">\n",
       "      <th></th>\n",
       "      <th>temperature</th>\n",
       "    </tr>\n",
       "    <tr>\n",
       "      <th>country</th>\n",
       "      <th></th>\n",
       "    </tr>\n",
       "  </thead>\n",
       "  <tbody>\n",
       "    <tr>\n",
       "      <th>Afghanistan</th>\n",
       "      <td>15.647</td>\n",
       "    </tr>\n",
       "    <tr>\n",
       "      <th>Albania</th>\n",
       "      <td>13.731</td>\n",
       "    </tr>\n",
       "    <tr>\n",
       "      <th>Argentina</th>\n",
       "      <td>15.631</td>\n",
       "    </tr>\n",
       "    <tr>\n",
       "      <th>Armenia</th>\n",
       "      <td>9.722</td>\n",
       "    </tr>\n",
       "    <tr>\n",
       "      <th>Australia</th>\n",
       "      <td>22.130</td>\n",
       "    </tr>\n",
       "  </tbody>\n",
       "</table>\n",
       "</div>"
      ],
      "text/plain": [
       "             temperature\n",
       "country                 \n",
       "Afghanistan       15.647\n",
       "Albania           13.731\n",
       "Argentina         15.631\n",
       "Armenia            9.722\n",
       "Australia         22.130"
      ]
     },
     "execution_count": 3,
     "metadata": {},
     "output_type": "execute_result"
    }
   ],
   "source": [
    "# Create DF.\n",
    "df = pd.read_csv(FILENAME, index_col=INDEX)\n",
    "df.head()"
   ]
  },
  {
   "cell_type": "code",
   "execution_count": 4,
   "id": "9781e1c4",
   "metadata": {},
   "outputs": [],
   "source": [
    "# Create JSON.\n",
    "df.to_json(FILENAME[:-4] + '.json')"
   ]
  }
 ],
 "metadata": {
  "kernelspec": {
   "display_name": "mlenv",
   "language": "python",
   "name": "mlenv"
  },
  "language_info": {
   "codemirror_mode": {
    "name": "ipython",
    "version": 3
   },
   "file_extension": ".py",
   "mimetype": "text/x-python",
   "name": "python",
   "nbconvert_exporter": "python",
   "pygments_lexer": "ipython3",
   "version": "3.7.10"
  }
 },
 "nbformat": 4,
 "nbformat_minor": 5
}
