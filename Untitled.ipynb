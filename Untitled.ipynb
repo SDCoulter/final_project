{
 "cells": [
  {
   "cell_type": "code",
   "execution_count": null,
   "id": "3fe2518b",
   "metadata": {},
   "outputs": [],
   "source": [
    "# Import API key and gmaps.\n",
    "from config import g_key\n",
    "import gmaps\n",
    "import gmaps.geojson_geometries\n",
    "from countryinfo import CountryInfo\n",
    "\n",
    "# Configure gmaps.\n",
    "gmaps.configure(api_key=g_key)"
   ]
  },
  {
   "cell_type": "code",
   "execution_count": null,
   "id": "e1e67e79",
   "metadata": {},
   "outputs": [],
   "source": [
    "# Choose colours for the classes.\n",
    "class_colors = {'0': '#003f5c', '1': '#bc5090', '2': '#ffa600'}\n",
    "# Create variable to store the country colours in.\n",
    "colors = []\n",
    "names = []\n",
    "\n",
    "# Get the geoJSON geometry to plot the countries.\n",
    "countries_geojson = gmaps.geojson_geometries.load_geometry('countries')\n",
    "\n",
    "# Loop through each country in the gmaps \n",
    "for feature in countries_geojson['features']:\n",
    "    # Find the country name in the gmaps geoJSON data.\n",
    "    country_name = feature['properties']['name']\n",
    "    names.append(country_name)\n",
    "    # Lookup the name in our scaled_df, match the class to a colour if it exists, otherwise default to white.\n",
    "    try:\n",
    "        cl = scaled_df.loc[scaled_df.index == country_name]['Class_k3'].to_string()[-1:]\n",
    "        color = class_colors[cl]\n",
    "    except KeyError:\n",
    "        color = '#ffffff'\n",
    "        \n",
    "    # Add colour to list of colours to plot.\n",
    "    colors.append(color)\n",
    "    \n",
    "# Show colours brief.\n",
    "colors[:5]"
   ]
  },
  {
   "cell_type": "code",
   "execution_count": null,
   "id": "eb329355",
   "metadata": {},
   "outputs": [],
   "source": []
  },
  {
   "cell_type": "code",
   "execution_count": null,
   "id": "0400e31a",
   "metadata": {},
   "outputs": [],
   "source": []
  }
 ],
 "metadata": {
  "kernelspec": {
   "display_name": "mlenv",
   "language": "python",
   "name": "mlenv"
  },
  "language_info": {
   "codemirror_mode": {
    "name": "ipython",
    "version": 3
   },
   "file_extension": ".py",
   "mimetype": "text/x-python",
   "name": "python",
   "nbconvert_exporter": "python",
   "pygments_lexer": "ipython3",
   "version": "3.7.10"
  }
 },
 "nbformat": 4,
 "nbformat_minor": 5
}
