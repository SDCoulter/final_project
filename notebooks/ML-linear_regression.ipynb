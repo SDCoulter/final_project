{
 "cells": [
  {
   "cell_type": "code",
   "execution_count": 18,
   "id": "f0364389",
   "metadata": {},
   "outputs": [],
   "source": [
    "# Import our dependencies\n",
    "from sklearn.model_selection import train_test_split\n",
    "from sklearn.preprocessing import StandardScaler,OneHotEncoder\n",
    "import pandas as pd\n",
    "import tensorflow as tf\n",
    "import matplotlib.pyplot as plt\n",
    "from sklearn.linear_model import LinearRegression"
   ]
  },
  {
   "cell_type": "code",
   "execution_count": 2,
   "id": "d9056194",
   "metadata": {},
   "outputs": [
    {
     "data": {
      "text/html": [
       "<div>\n",
       "<style scoped>\n",
       "    .dataframe tbody tr th:only-of-type {\n",
       "        vertical-align: middle;\n",
       "    }\n",
       "\n",
       "    .dataframe tbody tr th {\n",
       "        vertical-align: top;\n",
       "    }\n",
       "\n",
       "    .dataframe thead th {\n",
       "        text-align: right;\n",
       "    }\n",
       "</style>\n",
       "<table border=\"1\" class=\"dataframe\">\n",
       "  <thead>\n",
       "    <tr style=\"text-align: right;\">\n",
       "      <th></th>\n",
       "      <th>Unnamed: 0</th>\n",
       "      <th>Country</th>\n",
       "      <th>Code</th>\n",
       "      <th>Year</th>\n",
       "      <th>Annual_CO2_emission_tonnes</th>\n",
       "      <th>Life_ladder</th>\n",
       "      <th>Basic_drinking_water</th>\n",
       "      <th>Air_pollutant_pm2.5</th>\n",
       "    </tr>\n",
       "  </thead>\n",
       "  <tbody>\n",
       "    <tr>\n",
       "      <th>0</th>\n",
       "      <td>0</td>\n",
       "      <td>Afghanistan</td>\n",
       "      <td>AFG</td>\n",
       "      <td>2008</td>\n",
       "      <td>4198329.64</td>\n",
       "      <td>3.724</td>\n",
       "      <td>43.31</td>\n",
       "      <td>NaN</td>\n",
       "    </tr>\n",
       "    <tr>\n",
       "      <th>1</th>\n",
       "      <td>1</td>\n",
       "      <td>Afghanistan</td>\n",
       "      <td>AFG</td>\n",
       "      <td>2009</td>\n",
       "      <td>6760313.49</td>\n",
       "      <td>4.402</td>\n",
       "      <td>45.78</td>\n",
       "      <td>NaN</td>\n",
       "    </tr>\n",
       "    <tr>\n",
       "      <th>2</th>\n",
       "      <td>2</td>\n",
       "      <td>Afghanistan</td>\n",
       "      <td>AFG</td>\n",
       "      <td>2010</td>\n",
       "      <td>8452224.14</td>\n",
       "      <td>4.758</td>\n",
       "      <td>48.29</td>\n",
       "      <td>49.80</td>\n",
       "    </tr>\n",
       "    <tr>\n",
       "      <th>3</th>\n",
       "      <td>3</td>\n",
       "      <td>Afghanistan</td>\n",
       "      <td>AFG</td>\n",
       "      <td>2011</td>\n",
       "      <td>12226017.38</td>\n",
       "      <td>3.832</td>\n",
       "      <td>50.83</td>\n",
       "      <td>50.30</td>\n",
       "    </tr>\n",
       "    <tr>\n",
       "      <th>4</th>\n",
       "      <td>4</td>\n",
       "      <td>Afghanistan</td>\n",
       "      <td>AFG</td>\n",
       "      <td>2012</td>\n",
       "      <td>10742056.72</td>\n",
       "      <td>3.783</td>\n",
       "      <td>53.40</td>\n",
       "      <td>54.67</td>\n",
       "    </tr>\n",
       "  </tbody>\n",
       "</table>\n",
       "</div>"
      ],
      "text/plain": [
       "   Unnamed: 0      Country Code  Year  Annual_CO2_emission_tonnes  \\\n",
       "0           0  Afghanistan  AFG  2008                  4198329.64   \n",
       "1           1  Afghanistan  AFG  2009                  6760313.49   \n",
       "2           2  Afghanistan  AFG  2010                  8452224.14   \n",
       "3           3  Afghanistan  AFG  2011                 12226017.38   \n",
       "4           4  Afghanistan  AFG  2012                 10742056.72   \n",
       "\n",
       "   Life_ladder  Basic_drinking_water  Air_pollutant_pm2.5  \n",
       "0        3.724                 43.31                  NaN  \n",
       "1        4.402                 45.78                  NaN  \n",
       "2        4.758                 48.29                49.80  \n",
       "3        3.832                 50.83                50.30  \n",
       "4        3.783                 53.40                54.67  "
      ]
     },
     "execution_count": 2,
     "metadata": {},
     "output_type": "execute_result"
    }
   ],
   "source": [
    "# Import our input dataset\n",
    "environ_happ = pd.read_csv('Resources/environment_happiness.csv')\n",
    "environ_happ.head()"
   ]
  },
  {
   "cell_type": "code",
   "execution_count": 3,
   "id": "b971a7d6",
   "metadata": {},
   "outputs": [],
   "source": [
    "# Dropping the Unamed and code columns\n",
    "df = environ_happ.drop(columns=['Unnamed: 0', 'Code'], axis=1)"
   ]
  },
  {
   "cell_type": "code",
   "execution_count": 5,
   "id": "7511a85b",
   "metadata": {},
   "outputs": [
    {
     "data": {
      "text/html": [
       "<div>\n",
       "<style scoped>\n",
       "    .dataframe tbody tr th:only-of-type {\n",
       "        vertical-align: middle;\n",
       "    }\n",
       "\n",
       "    .dataframe tbody tr th {\n",
       "        vertical-align: top;\n",
       "    }\n",
       "\n",
       "    .dataframe thead th {\n",
       "        text-align: right;\n",
       "    }\n",
       "</style>\n",
       "<table border=\"1\" class=\"dataframe\">\n",
       "  <thead>\n",
       "    <tr style=\"text-align: right;\">\n",
       "      <th></th>\n",
       "      <th>Country</th>\n",
       "      <th>Year</th>\n",
       "      <th>Annual_CO2_emission_tonnes</th>\n",
       "      <th>Life_ladder</th>\n",
       "      <th>Basic_drinking_water</th>\n",
       "      <th>Air_pollutant_pm2.5</th>\n",
       "    </tr>\n",
       "  </thead>\n",
       "  <tbody>\n",
       "    <tr>\n",
       "      <th>0</th>\n",
       "      <td>Afghanistan</td>\n",
       "      <td>2008</td>\n",
       "      <td>4198329.64</td>\n",
       "      <td>3.724</td>\n",
       "      <td>43.31</td>\n",
       "      <td>NaN</td>\n",
       "    </tr>\n",
       "    <tr>\n",
       "      <th>1</th>\n",
       "      <td>Afghanistan</td>\n",
       "      <td>2009</td>\n",
       "      <td>6760313.49</td>\n",
       "      <td>4.402</td>\n",
       "      <td>45.78</td>\n",
       "      <td>NaN</td>\n",
       "    </tr>\n",
       "    <tr>\n",
       "      <th>2</th>\n",
       "      <td>Afghanistan</td>\n",
       "      <td>2010</td>\n",
       "      <td>8452224.14</td>\n",
       "      <td>4.758</td>\n",
       "      <td>48.29</td>\n",
       "      <td>49.80</td>\n",
       "    </tr>\n",
       "    <tr>\n",
       "      <th>3</th>\n",
       "      <td>Afghanistan</td>\n",
       "      <td>2011</td>\n",
       "      <td>12226017.38</td>\n",
       "      <td>3.832</td>\n",
       "      <td>50.83</td>\n",
       "      <td>50.30</td>\n",
       "    </tr>\n",
       "    <tr>\n",
       "      <th>4</th>\n",
       "      <td>Afghanistan</td>\n",
       "      <td>2012</td>\n",
       "      <td>10742056.72</td>\n",
       "      <td>3.783</td>\n",
       "      <td>53.40</td>\n",
       "      <td>54.67</td>\n",
       "    </tr>\n",
       "  </tbody>\n",
       "</table>\n",
       "</div>"
      ],
      "text/plain": [
       "       Country  Year  Annual_CO2_emission_tonnes  Life_ladder  \\\n",
       "0  Afghanistan  2008                  4198329.64        3.724   \n",
       "1  Afghanistan  2009                  6760313.49        4.402   \n",
       "2  Afghanistan  2010                  8452224.14        4.758   \n",
       "3  Afghanistan  2011                 12226017.38        3.832   \n",
       "4  Afghanistan  2012                 10742056.72        3.783   \n",
       "\n",
       "   Basic_drinking_water  Air_pollutant_pm2.5  \n",
       "0                 43.31                  NaN  \n",
       "1                 45.78                  NaN  \n",
       "2                 48.29                49.80  \n",
       "3                 50.83                50.30  \n",
       "4                 53.40                54.67  "
      ]
     },
     "execution_count": 5,
     "metadata": {},
     "output_type": "execute_result"
    }
   ],
   "source": [
    "df.head()"
   ]
  },
  {
   "cell_type": "code",
   "execution_count": 10,
   "id": "1dca944c",
   "metadata": {},
   "outputs": [
    {
     "data": {
      "text/plain": [
       "Country\n",
       "Afghanistan    9.754862e+07\n",
       "Albania        4.848337e+07\n",
       "Algeria        3.984682e+08\n",
       "Angola         1.301587e+08\n",
       "Argentina      1.943743e+09\n",
       "                   ...     \n",
       "Venezuela      1.788490e+09\n",
       "Vietnam        9.908540e+08\n",
       "Yemen          1.527783e+08\n",
       "Zambia         3.251967e+07\n",
       "Zimbabwe       9.261441e+07\n",
       "Name: Annual_CO2_emission_tonnes, Length: 148, dtype: float64"
      ]
     },
     "execution_count": 10,
     "metadata": {},
     "output_type": "execute_result"
    }
   ],
   "source": [
    "newdf = df.groupby(\"Country\")[\"Annual_CO2_emission_tonnes\"].sum()\n",
    "newdf"
   ]
  },
  {
   "cell_type": "code",
   "execution_count": 13,
   "id": "cb708cad",
   "metadata": {},
   "outputs": [
    {
     "data": {
      "image/png": "[encoded data removed]",
      "text/plain": [
       "<Figure size 432x288 with 1 Axes>"
      ]
     },
     "metadata": {
      "needs_background": "light"
     },
     "output_type": "display_data"
    }
   ],
   "source": [
    "plt.scatter(df.Basic_drinking_water, df.Life_ladder)\n",
    "plt.xlabel('Basic Drinking Water')\n",
    "plt.ylabel('Life Ladder')\n",
    "plt.show()"
   ]
  },
  {
   "cell_type": "code",
   "execution_count": 14,
   "id": "14f98753",
   "metadata": {},
   "outputs": [
    {
     "data": {
      "image/png": "[encoded data removed]",
      "text/plain": [
       "<Figure size 432x288 with 1 Axes>"
      ]
     },
     "metadata": {
      "needs_background": "light"
     },
     "output_type": "display_data"
    }
   ],
   "source": [
    "plt.scatter(df.Annual_CO2_emission_tonnes, df.Life_ladder)\n",
    "plt.xlabel('Annual CO2 Emissions (Tonnes)')\n",
    "plt.ylabel('Life Ladder')\n",
    "plt.show()"
   ]
  },
  {
   "cell_type": "code",
   "execution_count": 25,
   "id": "f9961ef9",
   "metadata": {},
   "outputs": [],
   "source": [
    "X = df.Annual_CO2_emission_tonnes.values.reshape(-1,1)\n",
    "X.shape\n",
    "y = df.Life_ladder"
   ]
  },
  {
   "cell_type": "code",
   "execution_count": 24,
   "id": "2d7f3619",
   "metadata": {
    "scrolled": true
   },
   "outputs": [
    {
     "data": {
      "text/plain": [
       "Country                         0\n",
       "Year                            0\n",
       "Annual_CO2_emission_tonnes      0\n",
       "Life_ladder                     0\n",
       "Basic_drinking_water          112\n",
       "Air_pollutant_pm2.5           408\n",
       "dtype: int64"
      ]
     },
     "execution_count": 24,
     "metadata": {},
     "output_type": "execute_result"
    }
   ],
   "source": [
    "df.isnull().sum()"
   ]
  },
  {
   "cell_type": "code",
   "execution_count": 26,
   "id": "7cdf0c4e",
   "metadata": {
    "scrolled": true
   },
   "outputs": [
    {
     "name": "stdout",
     "output_type": "stream",
     "text": [
      "(1169,)\n"
     ]
    }
   ],
   "source": [
    "model = LinearRegression()\n",
    "model.fit(X, y)\n",
    "y_pred = model.predict(X)\n",
    "print(y_pred.shape)"
   ]
  },
  {
   "cell_type": "code",
   "execution_count": 27,
   "id": "aad7f0b3",
   "metadata": {},
   "outputs": [
    {
     "data": {
      "image/png": "[encoded data removed]",
      "text/plain": [
       "<Figure size 432x288 with 1 Axes>"
      ]
     },
     "metadata": {
      "needs_background": "light"
     },
     "output_type": "display_data"
    }
   ],
   "source": [
    "plt.scatter(X, y)\n",
    "plt.plot(X, y_pred, color='red')\n",
    "plt.show()"
   ]
  },
  {
   "cell_type": "code",
   "execution_count": null,
   "id": "38cb93d9",
   "metadata": {},
   "outputs": [],
   "source": []
  }
 ],
 "metadata": {
  "kernelspec": {
   "display_name": "mlenv",
   "language": "python",
   "name": "mlenv"
  },
  "language_info": {
   "codemirror_mode": {
    "name": "ipython",
    "version": 3
   },
   "file_extension": ".py",
   "mimetype": "text/x-python",
   "name": "python",
   "nbconvert_exporter": "python",
   "pygments_lexer": "ipython3",
   "version": "3.7.10"
  }
 },
 "nbformat": 4,
 "nbformat_minor": 5
}
