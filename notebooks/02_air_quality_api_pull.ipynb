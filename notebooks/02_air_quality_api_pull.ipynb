{
 "cells": [
  {
   "cell_type": "markdown",
   "id": "2bc9a864",
   "metadata": {},
   "source": [
    "## Use the OpenWeatherMap API to pull Air Quality Data\n",
    "\n",
    "We will read in the Happiness Index resource to pull the name of every unique country and then use the [OpenWeatherMap API](https://openweathermap.org/) to find the Air Quality measurements for each country for each year, 2005-2021."
   ]
  },
  {
   "cell_type": "code",
   "execution_count": 1,
   "id": "a6e9ff4e",
   "metadata": {},
   "outputs": [],
   "source": [
    "# Dependencies.\n",
    "import pandas as pd\n",
    "import numpy as np\n",
    "import requests\n",
    "import time, datetime\n",
    "from countryinfo import CountryInfo\n",
    "from config import owm_api, mq_api"
   ]
  },
  {
   "cell_type": "code",
   "execution_count": 2,
   "id": "aae6bba9",
   "metadata": {
    "scrolled": true
   },
   "outputs": [
    {
     "data": {
      "text/html": [
       "<div>\n",
       "<style scoped>\n",
       "    .dataframe tbody tr th:only-of-type {\n",
       "        vertical-align: middle;\n",
       "    }\n",
       "\n",
       "    .dataframe tbody tr th {\n",
       "        vertical-align: top;\n",
       "    }\n",
       "\n",
       "    .dataframe thead th {\n",
       "        text-align: right;\n",
       "    }\n",
       "</style>\n",
       "<table border=\"1\" class=\"dataframe\">\n",
       "  <thead>\n",
       "    <tr style=\"text-align: right;\">\n",
       "      <th></th>\n",
       "      <th>Country name</th>\n",
       "      <th>year</th>\n",
       "      <th>Life Ladder</th>\n",
       "      <th>Log GDP per capita</th>\n",
       "      <th>Social support</th>\n",
       "      <th>Healthy life expectancy at birth</th>\n",
       "      <th>Freedom to make life choices</th>\n",
       "      <th>Generosity</th>\n",
       "      <th>Perceptions of corruption</th>\n",
       "      <th>Positive affect</th>\n",
       "      <th>Negative affect</th>\n",
       "    </tr>\n",
       "  </thead>\n",
       "  <tbody>\n",
       "    <tr>\n",
       "      <th>0</th>\n",
       "      <td>Afghanistan</td>\n",
       "      <td>2008</td>\n",
       "      <td>3.724</td>\n",
       "      <td>7.370</td>\n",
       "      <td>0.451</td>\n",
       "      <td>50.80</td>\n",
       "      <td>0.718</td>\n",
       "      <td>0.168</td>\n",
       "      <td>0.882</td>\n",
       "      <td>0.518</td>\n",
       "      <td>0.258</td>\n",
       "    </tr>\n",
       "    <tr>\n",
       "      <th>1</th>\n",
       "      <td>Afghanistan</td>\n",
       "      <td>2009</td>\n",
       "      <td>4.402</td>\n",
       "      <td>7.540</td>\n",
       "      <td>0.552</td>\n",
       "      <td>51.20</td>\n",
       "      <td>0.679</td>\n",
       "      <td>0.190</td>\n",
       "      <td>0.850</td>\n",
       "      <td>0.584</td>\n",
       "      <td>0.237</td>\n",
       "    </tr>\n",
       "    <tr>\n",
       "      <th>2</th>\n",
       "      <td>Afghanistan</td>\n",
       "      <td>2010</td>\n",
       "      <td>4.758</td>\n",
       "      <td>7.647</td>\n",
       "      <td>0.539</td>\n",
       "      <td>51.60</td>\n",
       "      <td>0.600</td>\n",
       "      <td>0.121</td>\n",
       "      <td>0.707</td>\n",
       "      <td>0.618</td>\n",
       "      <td>0.275</td>\n",
       "    </tr>\n",
       "    <tr>\n",
       "      <th>3</th>\n",
       "      <td>Afghanistan</td>\n",
       "      <td>2011</td>\n",
       "      <td>3.832</td>\n",
       "      <td>7.620</td>\n",
       "      <td>0.521</td>\n",
       "      <td>51.92</td>\n",
       "      <td>0.496</td>\n",
       "      <td>0.162</td>\n",
       "      <td>0.731</td>\n",
       "      <td>0.611</td>\n",
       "      <td>0.267</td>\n",
       "    </tr>\n",
       "    <tr>\n",
       "      <th>4</th>\n",
       "      <td>Afghanistan</td>\n",
       "      <td>2012</td>\n",
       "      <td>3.783</td>\n",
       "      <td>7.705</td>\n",
       "      <td>0.521</td>\n",
       "      <td>52.24</td>\n",
       "      <td>0.531</td>\n",
       "      <td>0.236</td>\n",
       "      <td>0.776</td>\n",
       "      <td>0.710</td>\n",
       "      <td>0.268</td>\n",
       "    </tr>\n",
       "  </tbody>\n",
       "</table>\n",
       "</div>"
      ],
      "text/plain": [
       "  Country name  year  Life Ladder  Log GDP per capita  Social support  \\\n",
       "0  Afghanistan  2008        3.724               7.370           0.451   \n",
       "1  Afghanistan  2009        4.402               7.540           0.552   \n",
       "2  Afghanistan  2010        4.758               7.647           0.539   \n",
       "3  Afghanistan  2011        3.832               7.620           0.521   \n",
       "4  Afghanistan  2012        3.783               7.705           0.521   \n",
       "\n",
       "   Healthy life expectancy at birth  Freedom to make life choices  Generosity  \\\n",
       "0                             50.80                         0.718       0.168   \n",
       "1                             51.20                         0.679       0.190   \n",
       "2                             51.60                         0.600       0.121   \n",
       "3                             51.92                         0.496       0.162   \n",
       "4                             52.24                         0.531       0.236   \n",
       "\n",
       "   Perceptions of corruption  Positive affect  Negative affect  \n",
       "0                      0.882            0.518            0.258  \n",
       "1                      0.850            0.584            0.237  \n",
       "2                      0.707            0.618            0.275  \n",
       "3                      0.731            0.611            0.267  \n",
       "4                      0.776            0.710            0.268  "
      ]
     },
     "execution_count": 2,
     "metadata": {},
     "output_type": "execute_result"
    }
   ],
   "source": [
    "# Read in the World Happiness Index for country names.\n",
    "df = pd.read_csv('resources/whr/world-happiness-report.csv')\n",
    "df.head()"
   ]
  },
  {
   "cell_type": "code",
   "execution_count": 3,
   "id": "4bd61afe",
   "metadata": {},
   "outputs": [
    {
     "data": {
      "text/plain": [
       "['Afghanistan', 'Albania', 'Algeria', 'Angola', 'Argentina']"
      ]
     },
     "execution_count": 3,
     "metadata": {},
     "output_type": "execute_result"
    }
   ],
   "source": [
    "# Store unique country names.\n",
    "countries = df['Country name'].unique().tolist()\n",
    "countries[:5]"
   ]
  },
  {
   "cell_type": "markdown",
   "id": "fa89a0e1",
   "metadata": {},
   "source": [
    "Need latitude and longitude for each country's **CAPITAL** for the API call to OpenWeatherMap, so will use the [CountryInfo](https://pypi.org/project/countryinfo/) Python module."
   ]
  },
  {
   "cell_type": "code",
   "execution_count": 4,
   "id": "7f634ca1",
   "metadata": {},
   "outputs": [
    {
     "name": "stdout",
     "output_type": "stream",
     "text": [
      "CountryInfo Invalid Country:  Congo (Brazzaville)\n",
      "CountryInfo Invalid Country:  Congo (Kinshasa)\n",
      "CountryInfo Invalid Country:  Gambia\n",
      "CountryInfo Invalid Country:  Hong Kong S.A.R. of China\n",
      "CountryInfo Invalid Country:  Kosovo\n",
      "CountryInfo Invalid Country:  Montenegro\n",
      "CountryInfo Invalid Country:  Myanmar\n",
      "CountryInfo Invalid Country:  North Cyprus\n",
      "CountryInfo Invalid Country:  North Macedonia\n",
      "CountryInfo Invalid Country:  Palestinian Territories\n",
      "CountryInfo Invalid Country:  Somaliland region\n",
      "CountryInfo Invalid Country:  Taiwan Province of China\n"
     ]
    }
   ],
   "source": [
    "# Get list of latitude and longitude values, for country errors use NaN.\n",
    "latlngs = []\n",
    "for country in countries:\n",
    "    try:\n",
    "        latlng = CountryInfo(country).info()['capital_latlng']\n",
    "        latlngs.append([country, latlng[0], latlng[1]])\n",
    "    except:\n",
    "        print('CountryInfo Invalid Country: ', country)\n",
    "        latlngs.append([country, np.nan, np.nan])"
   ]
  },
  {
   "cell_type": "code",
   "execution_count": 5,
   "id": "03ca1439",
   "metadata": {},
   "outputs": [],
   "source": [
    "# Add in missing ones manually.\n",
    "missing_countries = [\n",
    "    ['Congo (Brazzaville)', -4.4419, 15.2663],\n",
    "    ['Congo (Kinshasa)', -4.322447, 15.307045],\n",
    "    ['Gambia', 13.4544, -16.5753],\n",
    "    ['Hong Kong S.A.R. of China', 22.302711, 114.177216],\n",
    "    ['Kosovo', 42.667542, 21.166191],\n",
    "    ['Montenegro', 42.4304, 19.2594],\n",
    "    ['Myanmar', 19.7633, 96.0785],\n",
    "    ['North Cyprus', 35.1925, 33.3598],\n",
    "    ['North Macedonia', 41.9981, 21.4254],\n",
    "    ['Palestinian Territories', 31.898043, 35.204269],\n",
    "    ['Somaliland region', 9.5624, 44.0770],\n",
    "    ['Taiwan Province of China', 25.0330, 121.5654]\n",
    "]\n",
    "# Loop through and replace missing values.\n",
    "for x in latlngs:\n",
    "    for y in missing_countries:\n",
    "        if x[0] == y[0]:\n",
    "            x[1] = y[1]\n",
    "            x[2] = y[2]"
   ]
  },
  {
   "cell_type": "code",
   "execution_count": 6,
   "id": "22bccb29",
   "metadata": {},
   "outputs": [
    {
     "data": {
      "text/html": [
       "<div>\n",
       "<style scoped>\n",
       "    .dataframe tbody tr th:only-of-type {\n",
       "        vertical-align: middle;\n",
       "    }\n",
       "\n",
       "    .dataframe tbody tr th {\n",
       "        vertical-align: top;\n",
       "    }\n",
       "\n",
       "    .dataframe thead th {\n",
       "        text-align: right;\n",
       "    }\n",
       "</style>\n",
       "<table border=\"1\" class=\"dataframe\">\n",
       "  <thead>\n",
       "    <tr style=\"text-align: right;\">\n",
       "      <th></th>\n",
       "      <th>Country</th>\n",
       "      <th>Latitude</th>\n",
       "      <th>Longitude</th>\n",
       "    </tr>\n",
       "  </thead>\n",
       "  <tbody>\n",
       "    <tr>\n",
       "      <th>0</th>\n",
       "      <td>Afghanistan</td>\n",
       "      <td>34.526011</td>\n",
       "      <td>69.177684</td>\n",
       "    </tr>\n",
       "    <tr>\n",
       "      <th>1</th>\n",
       "      <td>Albania</td>\n",
       "      <td>41.326873</td>\n",
       "      <td>19.818791</td>\n",
       "    </tr>\n",
       "    <tr>\n",
       "      <th>2</th>\n",
       "      <td>Algeria</td>\n",
       "      <td>36.775361</td>\n",
       "      <td>3.060188</td>\n",
       "    </tr>\n",
       "    <tr>\n",
       "      <th>3</th>\n",
       "      <td>Angola</td>\n",
       "      <td>-8.827270</td>\n",
       "      <td>13.243951</td>\n",
       "    </tr>\n",
       "    <tr>\n",
       "      <th>4</th>\n",
       "      <td>Argentina</td>\n",
       "      <td>-34.607568</td>\n",
       "      <td>-58.437089</td>\n",
       "    </tr>\n",
       "  </tbody>\n",
       "</table>\n",
       "</div>"
      ],
      "text/plain": [
       "       Country   Latitude  Longitude\n",
       "0  Afghanistan  34.526011  69.177684\n",
       "1      Albania  41.326873  19.818791\n",
       "2      Algeria  36.775361   3.060188\n",
       "3       Angola  -8.827270  13.243951\n",
       "4    Argentina -34.607568 -58.437089"
      ]
     },
     "execution_count": 6,
     "metadata": {},
     "output_type": "execute_result"
    }
   ],
   "source": [
    "# Create a DataFrame from the country, latitude, and longitude values.\n",
    "countries_df = pd.DataFrame(latlngs, columns=['Country', 'Latitude', 'Longitude'])\n",
    "countries_df.head()"
   ]
  },
  {
   "cell_type": "markdown",
   "id": "0ac98abe",
   "metadata": {},
   "source": [
    "Need to use UNIX time for API call, so will create list of dates to convert, 1st June to 1st July, for 2005-2021."
   ]
  },
  {
   "cell_type": "code",
   "execution_count": 7,
   "id": "a560cee2",
   "metadata": {},
   "outputs": [
    {
     "data": {
      "text/plain": [
       "[[1117598400, 1120190400],\n",
       " [1149134400, 1151726400],\n",
       " [1180670400, 1183262400],\n",
       " [1212292800, 1214884800],\n",
       " [1243828800, 1246420800]]"
      ]
     },
     "execution_count": 7,
     "metadata": {},
     "output_type": "execute_result"
    }
   ],
   "source": [
    "# Create list of dates for UNIX time conversion.\n",
    "dates = []\n",
    "for i in range(5, 22):\n",
    "    if i // 10:\n",
    "        dates.append([f'01/06/20{i}', f'01/07/20{i}'])\n",
    "    else:\n",
    "        dates.append([f'01/06/200{i}', f'01/07/200{i}'])\n",
    "\n",
    "unix_times = []\n",
    "for date in dates:\n",
    "    unix_times.append(\n",
    "        [int(time.mktime(datetime.datetime.strptime(date[0], \"%d/%m/%Y\").timetuple())),\n",
    "         int(time.mktime(datetime.datetime.strptime(date[1], \"%d/%m/%Y\").timetuple()))]\n",
    "    )\n",
    "    \n",
    "unix_times[:5]"
   ]
  }
 ],
 "metadata": {
  "kernelspec": {
   "display_name": "mlenv",
   "language": "python",
   "name": "mlenv"
  },
  "language_info": {
   "codemirror_mode": {
    "name": "ipython",
    "version": 3
   },
   "file_extension": ".py",
   "mimetype": "text/x-python",
   "name": "python",
   "nbconvert_exporter": "python",
   "pygments_lexer": "ipython3",
   "version": "3.7.10"
  }
 },
 "nbformat": 4,
 "nbformat_minor": 5
}
