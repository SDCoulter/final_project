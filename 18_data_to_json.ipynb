{
 "cells": [
  {
   "cell_type": "markdown",
   "id": "c935bc6b",
   "metadata": {},
   "source": [
    "## Simply Turn MAIN Dataset into JSON."
   ]
  },
  {
   "cell_type": "code",
   "execution_count": 1,
   "id": "2235597b",
   "metadata": {},
   "outputs": [],
   "source": [
    "# Dependencies.\n",
    "import pandas as pd"
   ]
  },
  {
   "cell_type": "code",
   "execution_count": 6,
   "id": "ebf36d76",
   "metadata": {},
   "outputs": [
    {
     "data": {
      "text/html": [
       "<div>\n",
       "<style scoped>\n",
       "    .dataframe tbody tr th:only-of-type {\n",
       "        vertical-align: middle;\n",
       "    }\n",
       "\n",
       "    .dataframe tbody tr th {\n",
       "        vertical-align: top;\n",
       "    }\n",
       "\n",
       "    .dataframe thead th {\n",
       "        text-align: right;\n",
       "    }\n",
       "</style>\n",
       "<table border=\"1\" class=\"dataframe\">\n",
       "  <thead>\n",
       "    <tr style=\"text-align: right;\">\n",
       "      <th></th>\n",
       "      <th></th>\n",
       "      <th>Life Ladder</th>\n",
       "      <th>Temperature</th>\n",
       "      <th>Clean Water</th>\n",
       "      <th>Greenhouse Gas Emissions</th>\n",
       "      <th>Population</th>\n",
       "      <th>PM2.5</th>\n",
       "    </tr>\n",
       "    <tr>\n",
       "      <th>Country</th>\n",
       "      <th>Year</th>\n",
       "      <th></th>\n",
       "      <th></th>\n",
       "      <th></th>\n",
       "      <th></th>\n",
       "      <th></th>\n",
       "      <th></th>\n",
       "    </tr>\n",
       "  </thead>\n",
       "  <tbody>\n",
       "    <tr>\n",
       "      <th rowspan=\"5\" valign=\"top\">Afghanistan</th>\n",
       "      <th>2010</th>\n",
       "      <td>4.758</td>\n",
       "      <td>14.629</td>\n",
       "      <td>48.28708</td>\n",
       "      <td>44910.0</td>\n",
       "      <td>29185511.0</td>\n",
       "      <td>52.49585</td>\n",
       "    </tr>\n",
       "    <tr>\n",
       "      <th>2011</th>\n",
       "      <td>3.832</td>\n",
       "      <td>16.487</td>\n",
       "      <td>50.82785</td>\n",
       "      <td>58650.0</td>\n",
       "      <td>30117411.0</td>\n",
       "      <td>57.09972</td>\n",
       "    </tr>\n",
       "    <tr>\n",
       "      <th>2012</th>\n",
       "      <td>3.783</td>\n",
       "      <td>14.373</td>\n",
       "      <td>53.40352</td>\n",
       "      <td>66750.0</td>\n",
       "      <td>31161378.0</td>\n",
       "      <td>55.46611</td>\n",
       "    </tr>\n",
       "    <tr>\n",
       "      <th>2013</th>\n",
       "      <td>3.572</td>\n",
       "      <td>16.156</td>\n",
       "      <td>56.01404</td>\n",
       "      <td>74800.0</td>\n",
       "      <td>32269592.0</td>\n",
       "      <td>59.62277</td>\n",
       "    </tr>\n",
       "    <tr>\n",
       "      <th>2014</th>\n",
       "      <td>3.131</td>\n",
       "      <td>15.647</td>\n",
       "      <td>58.65937</td>\n",
       "      <td>84620.0</td>\n",
       "      <td>33370804.0</td>\n",
       "      <td>62.72192</td>\n",
       "    </tr>\n",
       "  </tbody>\n",
       "</table>\n",
       "</div>"
      ],
      "text/plain": [
       "                  Life Ladder  Temperature  Clean Water  \\\n",
       "Country     Year                                          \n",
       "Afghanistan 2010        4.758       14.629     48.28708   \n",
       "            2011        3.832       16.487     50.82785   \n",
       "            2012        3.783       14.373     53.40352   \n",
       "            2013        3.572       16.156     56.01404   \n",
       "            2014        3.131       15.647     58.65937   \n",
       "\n",
       "                  Greenhouse Gas Emissions  Population     PM2.5  \n",
       "Country     Year                                                  \n",
       "Afghanistan 2010                   44910.0  29185511.0  52.49585  \n",
       "            2011                   58650.0  30117411.0  57.09972  \n",
       "            2012                   66750.0  31161378.0  55.46611  \n",
       "            2013                   74800.0  32269592.0  59.62277  \n",
       "            2014                   84620.0  33370804.0  62.72192  "
      ]
     },
     "execution_count": 6,
     "metadata": {},
     "output_type": "execute_result"
    }
   ],
   "source": [
    "# Data.\n",
    "df = pd.read_csv('ds15_happ_temp_cw_gg_pop_pm.csv', index_col=['Country', 'Year'])\n",
    "df.head()"
   ]
  },
  {
   "cell_type": "code",
   "execution_count": 7,
   "id": "a135da0b",
   "metadata": {},
   "outputs": [],
   "source": [
    "df.to_json('test.json')"
   ]
  },
  {
   "cell_type": "code",
   "execution_count": null,
   "id": "fa518dd4",
   "metadata": {},
   "outputs": [],
   "source": []
  },
  {
   "cell_type": "code",
   "execution_count": null,
   "id": "32dd966c",
   "metadata": {},
   "outputs": [],
   "source": []
  },
  {
   "cell_type": "code",
   "execution_count": null,
   "id": "5d81a1b5",
   "metadata": {},
   "outputs": [],
   "source": []
  }
 ],
 "metadata": {
  "kernelspec": {
   "display_name": "mlenv",
   "language": "python",
   "name": "mlenv"
  },
  "language_info": {
   "codemirror_mode": {
    "name": "ipython",
    "version": 3
   },
   "file_extension": ".py",
   "mimetype": "text/x-python",
   "name": "python",
   "nbconvert_exporter": "python",
   "pygments_lexer": "ipython3",
   "version": "3.7.10"
  }
 },
 "nbformat": 4,
 "nbformat_minor": 5
}
